{
 "cells": [
  {
   "cell_type": "markdown",
   "id": "d7814055",
   "metadata": {},
   "source": [
    "#### Intro to Supervised Learning"
   ]
  },
  {
   "cell_type": "markdown",
   "id": "75c139ec",
   "metadata": {},
   "source": [
    "Univariate Linear Regression\n",
    "- purpose of linear regression is to model and predict the relationship between independent and dependent variables.\n",
    "- univariant LR predicts dependent variable from ONE independent variable \n",
    "- multiple LR predicts dependent variable from MULTIPLE independent variables\n",
    "\n",
    "Mean Squared Error\n",
    "- measures average of the squares of error\n",
    "- measures difference between estimated values to minimize the error\n",
    "\n",
    "R and R-squared\n",
    "- Ris the correlation between two variables\n",
    "- R^2 is the square of the correlation\n",
    "    - represents how close the data is to the regression line or how well the model fits the raw data \n",
    "    - between 0 and 1 and the closer this value is to one, the more variability is explained by the model\n",
    "\n"
   ]
  },
  {
   "cell_type": "code",
   "execution_count": 1,
   "id": "349c2f1f",
   "metadata": {},
   "outputs": [],
   "source": [
    "import numpy as np\n",
    "import pandas as pd\n",
    "import matplotlib.pyplot as plt\n",
    "import seaborn as sns\n",
    "\n",
    "from sklearn.model_selection import train_test_split\n",
    "from sklearn.linear_model import LinearRegression"
   ]
  },
  {
   "cell_type": "markdown",
   "id": "37a33ec3",
   "metadata": {},
   "source": [
    "The data (X1, X2, X3, X4, X5, X6, X7) are for each city.\n",
    "\n",
    "X1 = total overall reported crime rate per 1 million residents\n",
    "\n",
    "X2 = reported violent crime rate per 100,000 residents\n",
    "\n",
    "X3 = annual police funding in $/resident\n",
    "\n",
    "X4 = % of people 25 years+ with 4 yrs. of high school\n",
    "\n",
    "X5 = % of 16 to 19 year-olds not in highschool and not highschool graduates.\n",
    "\n",
    "X6 = % of 18 to 24 year-olds in college\n",
    "\n",
    "X7 = % of people 25 years+ with at least 4 years of college\n",
    "\n",
    "Reference: Life In America's Small Cities, By G.S. Thomas"
   ]
  },
  {
   "cell_type": "code",
   "execution_count": 2,
   "id": "a3f51aff",
   "metadata": {},
   "outputs": [
    {
     "data": {
      "text/html": [
       "<div>\n",
       "<style scoped>\n",
       "    .dataframe tbody tr th:only-of-type {\n",
       "        vertical-align: middle;\n",
       "    }\n",
       "\n",
       "    .dataframe tbody tr th {\n",
       "        vertical-align: top;\n",
       "    }\n",
       "\n",
       "    .dataframe thead th {\n",
       "        text-align: right;\n",
       "    }\n",
       "</style>\n",
       "<table border=\"1\" class=\"dataframe\">\n",
       "  <thead>\n",
       "    <tr style=\"text-align: right;\">\n",
       "      <th></th>\n",
       "      <th>X1</th>\n",
       "      <th>X2</th>\n",
       "      <th>X3</th>\n",
       "      <th>X4</th>\n",
       "      <th>X5</th>\n",
       "      <th>X6</th>\n",
       "      <th>X7</th>\n",
       "    </tr>\n",
       "  </thead>\n",
       "  <tbody>\n",
       "    <tr>\n",
       "      <th>0</th>\n",
       "      <td>478</td>\n",
       "      <td>184</td>\n",
       "      <td>40</td>\n",
       "      <td>74</td>\n",
       "      <td>11</td>\n",
       "      <td>31</td>\n",
       "      <td>20</td>\n",
       "    </tr>\n",
       "    <tr>\n",
       "      <th>1</th>\n",
       "      <td>494</td>\n",
       "      <td>213</td>\n",
       "      <td>32</td>\n",
       "      <td>72</td>\n",
       "      <td>11</td>\n",
       "      <td>43</td>\n",
       "      <td>18</td>\n",
       "    </tr>\n",
       "    <tr>\n",
       "      <th>2</th>\n",
       "      <td>643</td>\n",
       "      <td>347</td>\n",
       "      <td>57</td>\n",
       "      <td>70</td>\n",
       "      <td>18</td>\n",
       "      <td>16</td>\n",
       "      <td>16</td>\n",
       "    </tr>\n",
       "    <tr>\n",
       "      <th>3</th>\n",
       "      <td>341</td>\n",
       "      <td>565</td>\n",
       "      <td>31</td>\n",
       "      <td>71</td>\n",
       "      <td>11</td>\n",
       "      <td>25</td>\n",
       "      <td>19</td>\n",
       "    </tr>\n",
       "    <tr>\n",
       "      <th>4</th>\n",
       "      <td>773</td>\n",
       "      <td>327</td>\n",
       "      <td>67</td>\n",
       "      <td>72</td>\n",
       "      <td>9</td>\n",
       "      <td>29</td>\n",
       "      <td>24</td>\n",
       "    </tr>\n",
       "  </tbody>\n",
       "</table>\n",
       "</div>"
      ],
      "text/plain": [
       "    X1   X2  X3  X4  X5  X6  X7\n",
       "0  478  184  40  74  11  31  20\n",
       "1  494  213  32  72  11  43  18\n",
       "2  643  347  57  70  18  16  16\n",
       "3  341  565  31  71  11  25  19\n",
       "4  773  327  67  72   9  29  24"
      ]
     },
     "execution_count": 2,
     "metadata": {},
     "output_type": "execute_result"
    }
   ],
   "source": [
    "crime_df = pd.read_csv('crime_data.csv')\n",
    "crime_df.head()"
   ]
  },
  {
   "cell_type": "code",
   "execution_count": 4,
   "id": "830f58b8",
   "metadata": {},
   "outputs": [],
   "source": [
    "#isolate and rename columns that we want to use\n",
    "crime_df = crime_df[['X1','X3']]\n",
    "crime_df.columns = ['crime_rate_mil','police_funding']"
   ]
  },
  {
   "cell_type": "code",
   "execution_count": 6,
   "id": "2158e889",
   "metadata": {},
   "outputs": [],
   "source": [
    "from sklearn.linear_model import LinearRegression\n",
    "\n",
    "#x is the variable to predict\n",
    "X = np.array(crime_df['police_funding']).reshape(-1,1)\n",
    "y = np.array(crime_df['crime_rate_mil']).reshape(-1,1)\n",
    "\n",
    "#1. train-test split\n",
    "#enter the x and y inputs and the split size\n",
    "#random state, maintains the same random result (like random seed)\n",
    "X_train, X_test, y_train, y_test = train_test_split(X, y, test_size=0.3, random_state=32)"
   ]
  },
  {
   "cell_type": "code",
   "execution_count": 7,
   "id": "638a7e42",
   "metadata": {},
   "outputs": [
    {
     "data": {
      "text/plain": [
       "LinearRegression()"
      ]
     },
     "execution_count": 7,
     "metadata": {},
     "output_type": "execute_result"
    }
   ],
   "source": [
    "#2. create the model\n",
    "regression_df = LinearRegression()\n",
    "regression_df.fit(X_train, y_train)"
   ]
  },
  {
   "cell_type": "code",
   "execution_count": 8,
   "id": "166ce44b",
   "metadata": {},
   "outputs": [
    {
     "data": {
      "text/plain": [
       "array([[1020.54571631],\n",
       "       [ 641.96405651],\n",
       "       [ 652.19599327],\n",
       "       [ 795.44310778],\n",
       "       [ 549.87662575],\n",
       "       [ 713.58761377],\n",
       "       [ 815.90698128],\n",
       "       [ 795.44310778],\n",
       "       [ 662.42793002],\n",
       "       [ 928.45828555],\n",
       "       [ 682.89180352],\n",
       "       [ 713.58761377],\n",
       "       [1225.18445133],\n",
       "       [ 744.28342403],\n",
       "       [ 907.99441204]])"
      ]
     },
     "execution_count": 8,
     "metadata": {},
     "output_type": "execute_result"
    }
   ],
   "source": [
    "#3. predict new values\n",
    "y_pred = regression_df.predict(X_test)\n",
    "y_pred"
   ]
  },
  {
   "cell_type": "code",
   "execution_count": 9,
   "id": "aa6207da",
   "metadata": {},
   "outputs": [
    {
     "data": {
      "text/plain": [
       "0.4556879319920142"
      ]
     },
     "execution_count": 9,
     "metadata": {},
     "output_type": "execute_result"
    }
   ],
   "source": [
    "#performance of the model, accuracy score\n",
    "#r squared\n",
    "accuracy_score = regression_df.score(X_test, y_test)\n",
    "accuracy_score"
   ]
  },
  {
   "cell_type": "code",
   "execution_count": 10,
   "id": "e38ca267",
   "metadata": {},
   "outputs": [
    {
     "data": {
      "text/plain": [
       "0.4556879319920142"
      ]
     },
     "execution_count": 10,
     "metadata": {},
     "output_type": "execute_result"
    }
   ],
   "source": [
    "#another methos, same result\n",
    "#accuracy score based on y test and predicted\n",
    "from sklearn.metrics import r2_score\n",
    "r2_score(y_test, y_pred)"
   ]
  },
  {
   "cell_type": "code",
   "execution_count": 11,
   "id": "544929b1",
   "metadata": {},
   "outputs": [
    {
     "data": {
      "image/png": "[encoded data removed]",
      "text/plain": [
       "<Figure size 432x288 with 1 Axes>"
      ]
     },
     "metadata": {
      "needs_background": "light"
     },
     "output_type": "display_data"
    }
   ],
   "source": [
    "plt.scatter(X_test, y_test, color = 'm')\n",
    "plt.plot(X_test, y_pred, color='b')\n",
    "plt.show()"
   ]
  },
  {
   "cell_type": "markdown",
   "id": "f3bf52dc",
   "metadata": {},
   "source": [
    "### Classification - KNN\n",
    "- K-nearest neighbor predicts the group of a datapoint based on amjority 'votes' from nearest neighborhs\n",
    "- K represents the hyperparameter which indicates how many dta points any new datapoint must listen to in order to decide what class it is in\n",
    "\n",
    "- Performance measured by accuracy\n",
    "- Accuracy = number of correct predictions / total predictions\n",
    "\n",
    "- bullseye imagery for determing if an unknown varialbe is in one category or the other"
   ]
  },
  {
   "cell_type": "code",
   "execution_count": 12,
   "id": "23096e32",
   "metadata": {},
   "outputs": [],
   "source": [
    "from sklearn.neighbors import KNeighborsClassifier\n",
    "from sklearn.preprocessing import StandardScaler\n",
    "\n",
    "#already imported, but needed for this model\n",
    "from sklearn.model_selection import train_test_split"
   ]
  },
  {
   "cell_type": "code",
   "execution_count": null,
   "id": "9512fda4",
   "metadata": {},
   "outputs": [],
   "source": [
    "diabetes_df = pd.read_csv('..\\Datasets\\diabetes.csv')\n",
    "diabetes_df.head()"
   ]
  },
  {
   "cell_type": "code",
   "execution_count": 13,
   "id": "d270bc59",
   "metadata": {},
   "outputs": [
    {
     "data": {
      "text/html": [
       "<div>\n",
       "<style scoped>\n",
       "    .dataframe tbody tr th:only-of-type {\n",
       "        vertical-align: middle;\n",
       "    }\n",
       "\n",
       "    .dataframe tbody tr th {\n",
       "        vertical-align: top;\n",
       "    }\n",
       "\n",
       "    .dataframe thead th {\n",
       "        text-align: right;\n",
       "    }\n",
       "</style>\n",
       "<table border=\"1\" class=\"dataframe\">\n",
       "  <thead>\n",
       "    <tr style=\"text-align: right;\">\n",
       "      <th></th>\n",
       "      <th>Pregnancies</th>\n",
       "      <th>Glucose</th>\n",
       "      <th>BloodPressure</th>\n",
       "      <th>SkinThickness</th>\n",
       "      <th>Insulin</th>\n",
       "      <th>BMI</th>\n",
       "      <th>DiabetesPedigreeFunction</th>\n",
       "      <th>Age</th>\n",
       "      <th>Outcome</th>\n",
       "    </tr>\n",
       "  </thead>\n",
       "  <tbody>\n",
       "    <tr>\n",
       "      <th>0</th>\n",
       "      <td>6</td>\n",
       "      <td>148</td>\n",
       "      <td>72</td>\n",
       "      <td>35</td>\n",
       "      <td>0</td>\n",
       "      <td>33.6</td>\n",
       "      <td>0.627</td>\n",
       "      <td>50</td>\n",
       "      <td>1</td>\n",
       "    </tr>\n",
       "    <tr>\n",
       "      <th>1</th>\n",
       "      <td>1</td>\n",
       "      <td>85</td>\n",
       "      <td>66</td>\n",
       "      <td>29</td>\n",
       "      <td>0</td>\n",
       "      <td>26.6</td>\n",
       "      <td>0.351</td>\n",
       "      <td>31</td>\n",
       "      <td>0</td>\n",
       "    </tr>\n",
       "    <tr>\n",
       "      <th>2</th>\n",
       "      <td>8</td>\n",
       "      <td>183</td>\n",
       "      <td>64</td>\n",
       "      <td>0</td>\n",
       "      <td>0</td>\n",
       "      <td>23.3</td>\n",
       "      <td>0.672</td>\n",
       "      <td>32</td>\n",
       "      <td>1</td>\n",
       "    </tr>\n",
       "    <tr>\n",
       "      <th>3</th>\n",
       "      <td>1</td>\n",
       "      <td>89</td>\n",
       "      <td>66</td>\n",
       "      <td>23</td>\n",
       "      <td>94</td>\n",
       "      <td>28.1</td>\n",
       "      <td>0.167</td>\n",
       "      <td>21</td>\n",
       "      <td>0</td>\n",
       "    </tr>\n",
       "    <tr>\n",
       "      <th>4</th>\n",
       "      <td>0</td>\n",
       "      <td>137</td>\n",
       "      <td>40</td>\n",
       "      <td>35</td>\n",
       "      <td>168</td>\n",
       "      <td>43.1</td>\n",
       "      <td>2.288</td>\n",
       "      <td>33</td>\n",
       "      <td>1</td>\n",
       "    </tr>\n",
       "  </tbody>\n",
       "</table>\n",
       "</div>"
      ],
      "text/plain": [
       "   Pregnancies  Glucose  BloodPressure  SkinThickness  Insulin   BMI  \\\n",
       "0            6      148             72             35        0  33.6   \n",
       "1            1       85             66             29        0  26.6   \n",
       "2            8      183             64              0        0  23.3   \n",
       "3            1       89             66             23       94  28.1   \n",
       "4            0      137             40             35      168  43.1   \n",
       "\n",
       "   DiabetesPedigreeFunction  Age  Outcome  \n",
       "0                     0.627   50        1  \n",
       "1                     0.351   31        0  \n",
       "2                     0.672   32        1  \n",
       "3                     0.167   21        0  \n",
       "4                     2.288   33        1  "
      ]
     },
     "execution_count": 13,
     "metadata": {},
     "output_type": "execute_result"
    }
   ],
   "source": [
    "from sklearn.linear_model import LinearRegression"
   ]
  },
  {
   "cell_type": "code",
   "execution_count": 14,
   "id": "98d11741",
   "metadata": {},
   "outputs": [],
   "source": [
    "#trying to predict outcome, isolate data of interest\n",
    "#drop the outcome column and use it as the test\n",
    "X = diabetes_df.drop('Outcome', axis=1)\n",
    "y = diabetes_df['Outcome']"
   ]
  },
  {
   "cell_type": "code",
   "execution_count": 15,
   "id": "ddd62571",
   "metadata": {},
   "outputs": [
    {
     "name": "stdout",
     "output_type": "stream",
     "text": [
      "[0 0 0 0 1 0 0 0 1 1 0 1 0 0 0 0 0 0 1 0 1 0 0 0 0 1 0 0 0 0 1 1 1 1 1 1 1\n",
      " 0 0 1 0 1 0 0 0 0 1 0 0 1 0 1 1 0 0 0 1 0 0 1 0 0 0 0 0 0 0 1 0 1 1 0 0 0\n",
      " 0 0 1 0 0 0 1 0 0 0 0 1 1 0 0 0 0 0 0 0 0 1 1 0 1 0 1 0 0 0 1 0 0 1 0 1 0\n",
      " 0 0 1 0 0 1 0 0 0 0 0 0 0 0 0 0 1 1 1 1 1 0 0 1 0 0 1 1 0 0 0 0 0 0 0 0 0\n",
      " 0 1 0 1 0 0 0 0 0 0 1 0 0 0 0 0 0 1 0 0 1 0 1 0 0 0 1 0 0 1 0 0 0 0 1 0 0\n",
      " 0 0 0 1 1 0 0 0 0 0 0 0 0 0 1 0 0 0 0 1 0 0 0 1 1 0 0 0 0 0 0 0 0 0 1 1 0\n",
      " 0 0 0 1 0 0 0 0 0]\n"
     ]
    }
   ],
   "source": [
    "#train test split\n",
    "X_train, X_test, y_train, y_test = train_test_split(X, y, test_size=0.3, random_state=42)\n",
    "\n",
    "#standardization - transforming values so mean is 0 SD is 1\n",
    "from sklearn.preprocessing import StandardScaler\n",
    "sc = StandardScaler()\n",
    "X_train = sc.fit_transform(X_train)\n",
    "X_test = sc.fit_transform(X_test)\n",
    "\n",
    "#KNN, with estimated k value of 13\n",
    "knn=KNeighborsClassifier(n_neighbors=13)\n",
    "knn.fit(X_train, y_train)\n",
    "y_predict = knn.predict(X_test)\n",
    "print(y_predict)"
   ]
  },
  {
   "cell_type": "code",
   "execution_count": 16,
   "id": "f760e990",
   "metadata": {},
   "outputs": [
    {
     "name": "stdout",
     "output_type": "stream",
     "text": [
      "0.7142857142857143\n"
     ]
    }
   ],
   "source": [
    "#accuracy score for this k value\n",
    "print(knn.score(X_test,y_test))"
   ]
  },
  {
   "cell_type": "code",
   "execution_count": 33,
   "id": "b2b04f5a",
   "metadata": {},
   "outputs": [
    {
     "data": {
      "text/html": [
       "<div>\n",
       "<style scoped>\n",
       "    .dataframe tbody tr th:only-of-type {\n",
       "        vertical-align: middle;\n",
       "    }\n",
       "\n",
       "    .dataframe tbody tr th {\n",
       "        vertical-align: top;\n",
       "    }\n",
       "\n",
       "    .dataframe thead th {\n",
       "        text-align: right;\n",
       "    }\n",
       "</style>\n",
       "<table border=\"1\" class=\"dataframe\">\n",
       "  <thead>\n",
       "    <tr style=\"text-align: right;\">\n",
       "      <th></th>\n",
       "      <th>Pregnancies</th>\n",
       "      <th>Glucose</th>\n",
       "      <th>BloodPressure</th>\n",
       "      <th>SkinThickness</th>\n",
       "      <th>Insulin</th>\n",
       "      <th>BMI</th>\n",
       "      <th>DiabetesPedigreeFunction</th>\n",
       "      <th>Age</th>\n",
       "      <th>actual_outcome</th>\n",
       "      <th>predicted_outcome</th>\n",
       "    </tr>\n",
       "  </thead>\n",
       "  <tbody>\n",
       "    <tr>\n",
       "      <th>0</th>\n",
       "      <td>0.523387</td>\n",
       "      <td>-0.739446</td>\n",
       "      <td>-0.444600</td>\n",
       "      <td>0.720042</td>\n",
       "      <td>0.956067</td>\n",
       "      <td>0.232733</td>\n",
       "      <td>-0.152282</td>\n",
       "      <td>0.786051</td>\n",
       "      <td>0</td>\n",
       "      <td>0</td>\n",
       "    </tr>\n",
       "    <tr>\n",
       "      <th>1</th>\n",
       "      <td>-0.590921</td>\n",
       "      <td>-0.289349</td>\n",
       "      <td>0.329998</td>\n",
       "      <td>0.661122</td>\n",
       "      <td>-0.691043</td>\n",
       "      <td>0.433777</td>\n",
       "      <td>-1.077306</td>\n",
       "      <td>-1.059081</td>\n",
       "      <td>0</td>\n",
       "      <td>0</td>\n",
       "    </tr>\n",
       "    <tr>\n",
       "      <th>2</th>\n",
       "      <td>-0.590921</td>\n",
       "      <td>-0.417948</td>\n",
       "      <td>-0.171213</td>\n",
       "      <td>-1.224301</td>\n",
       "      <td>-0.691043</td>\n",
       "      <td>-0.145702</td>\n",
       "      <td>-1.044503</td>\n",
       "      <td>-1.059081</td>\n",
       "      <td>0</td>\n",
       "      <td>0</td>\n",
       "    </tr>\n",
       "    <tr>\n",
       "      <th>3</th>\n",
       "      <td>1.080541</td>\n",
       "      <td>-0.450098</td>\n",
       "      <td>0.557822</td>\n",
       "      <td>-1.224301</td>\n",
       "      <td>-0.691043</td>\n",
       "      <td>-0.878919</td>\n",
       "      <td>1.245094</td>\n",
       "      <td>0.031224</td>\n",
       "      <td>0</td>\n",
       "      <td>0</td>\n",
       "    </tr>\n",
       "    <tr>\n",
       "      <th>4</th>\n",
       "      <td>0.801964</td>\n",
       "      <td>0.482248</td>\n",
       "      <td>1.013468</td>\n",
       "      <td>-1.224301</td>\n",
       "      <td>-0.691043</td>\n",
       "      <td>-0.252136</td>\n",
       "      <td>-0.873932</td>\n",
       "      <td>1.373138</td>\n",
       "      <td>0</td>\n",
       "      <td>1</td>\n",
       "    </tr>\n",
       "    <tr>\n",
       "      <th>...</th>\n",
       "      <td>...</td>\n",
       "      <td>...</td>\n",
       "      <td>...</td>\n",
       "      <td>...</td>\n",
       "      <td>...</td>\n",
       "      <td>...</td>\n",
       "      <td>...</td>\n",
       "      <td>...</td>\n",
       "      <td>...</td>\n",
       "      <td>...</td>\n",
       "    </tr>\n",
       "    <tr>\n",
       "      <th>226</th>\n",
       "      <td>-1.148075</td>\n",
       "      <td>-0.064300</td>\n",
       "      <td>-3.087349</td>\n",
       "      <td>-1.224301</td>\n",
       "      <td>-0.691043</td>\n",
       "      <td>0.043516</td>\n",
       "      <td>-1.100267</td>\n",
       "      <td>-0.807472</td>\n",
       "      <td>1</td>\n",
       "      <td>0</td>\n",
       "    </tr>\n",
       "    <tr>\n",
       "      <th>227</th>\n",
       "      <td>-0.033767</td>\n",
       "      <td>-0.385798</td>\n",
       "      <td>-0.171213</td>\n",
       "      <td>1.368156</td>\n",
       "      <td>0.167188</td>\n",
       "      <td>0.327342</td>\n",
       "      <td>1.405825</td>\n",
       "      <td>-0.639733</td>\n",
       "      <td>1</td>\n",
       "      <td>0</td>\n",
       "    </tr>\n",
       "    <tr>\n",
       "      <th>228</th>\n",
       "      <td>-1.148075</td>\n",
       "      <td>0.192899</td>\n",
       "      <td>0.557822</td>\n",
       "      <td>0.955720</td>\n",
       "      <td>1.129447</td>\n",
       "      <td>0.504733</td>\n",
       "      <td>1.074522</td>\n",
       "      <td>-0.891341</td>\n",
       "      <td>0</td>\n",
       "      <td>0</td>\n",
       "    </tr>\n",
       "    <tr>\n",
       "      <th>229</th>\n",
       "      <td>0.523387</td>\n",
       "      <td>-0.514398</td>\n",
       "      <td>0.102175</td>\n",
       "      <td>0.661122</td>\n",
       "      <td>-0.101551</td>\n",
       "      <td>-0.145702</td>\n",
       "      <td>-1.162591</td>\n",
       "      <td>0.282833</td>\n",
       "      <td>0</td>\n",
       "      <td>0</td>\n",
       "    </tr>\n",
       "    <tr>\n",
       "      <th>230</th>\n",
       "      <td>0.244810</td>\n",
       "      <td>-1.414593</td>\n",
       "      <td>0.648951</td>\n",
       "      <td>1.191398</td>\n",
       "      <td>-0.326945</td>\n",
       "      <td>0.445603</td>\n",
       "      <td>-1.051064</td>\n",
       "      <td>0.115094</td>\n",
       "      <td>0</td>\n",
       "      <td>0</td>\n",
       "    </tr>\n",
       "  </tbody>\n",
       "</table>\n",
       "<p>231 rows × 10 columns</p>\n",
       "</div>"
      ],
      "text/plain": [
       "     Pregnancies   Glucose  BloodPressure  SkinThickness   Insulin       BMI  \\\n",
       "0       0.523387 -0.739446      -0.444600       0.720042  0.956067  0.232733   \n",
       "1      -0.590921 -0.289349       0.329998       0.661122 -0.691043  0.433777   \n",
       "2      -0.590921 -0.417948      -0.171213      -1.224301 -0.691043 -0.145702   \n",
       "3       1.080541 -0.450098       0.557822      -1.224301 -0.691043 -0.878919   \n",
       "4       0.801964  0.482248       1.013468      -1.224301 -0.691043 -0.252136   \n",
       "..           ...       ...            ...            ...       ...       ...   \n",
       "226    -1.148075 -0.064300      -3.087349      -1.224301 -0.691043  0.043516   \n",
       "227    -0.033767 -0.385798      -0.171213       1.368156  0.167188  0.327342   \n",
       "228    -1.148075  0.192899       0.557822       0.955720  1.129447  0.504733   \n",
       "229     0.523387 -0.514398       0.102175       0.661122 -0.101551 -0.145702   \n",
       "230     0.244810 -1.414593       0.648951       1.191398 -0.326945  0.445603   \n",
       "\n",
       "     DiabetesPedigreeFunction       Age  actual_outcome  predicted_outcome  \n",
       "0                   -0.152282  0.786051               0                  0  \n",
       "1                   -1.077306 -1.059081               0                  0  \n",
       "2                   -1.044503 -1.059081               0                  0  \n",
       "3                    1.245094  0.031224               0                  0  \n",
       "4                   -0.873932  1.373138               0                  1  \n",
       "..                        ...       ...             ...                ...  \n",
       "226                 -1.100267 -0.807472               1                  0  \n",
       "227                  1.405825 -0.639733               1                  0  \n",
       "228                  1.074522 -0.891341               0                  0  \n",
       "229                 -1.162591  0.282833               0                  0  \n",
       "230                 -1.051064  0.115094               0                  0  \n",
       "\n",
       "[231 rows x 10 columns]"
      ]
     },
     "execution_count": 33,
     "metadata": {},
     "output_type": "execute_result"
    }
   ],
   "source": [
    "#create database of the test data with all columns except outcome\n",
    "diabetes_pred_df = pd.DataFrame(X_test, columns=diabetes_df.columns[0:8])\n",
    "\n",
    "#add into df, actual outcome used to test \n",
    "diabetes_pred_df['actual_outcome'] = y_test.tolist()\n",
    "\n",
    "#add predicted outcome based on model\n",
    "diabetes_pred_df['predicted_outcome'] = y_predict.tolist()\n",
    "\n",
    "#values look strange because of standardization, it's where the age fits in a bell curve\n",
    "diabetes_pred_df"
   ]
  },
  {
   "cell_type": "markdown",
   "id": "86a977c3",
   "metadata": {},
   "source": [
    "### Confusion Matrix - Accuracy"
   ]
  },
  {
   "cell_type": "code",
   "execution_count": 22,
   "id": "9df7eb6a",
   "metadata": {},
   "outputs": [
    {
     "data": {
      "text/plain": [
       "array([[126,  25],\n",
       "       [ 41,  39]], dtype=int64)"
      ]
     },
     "execution_count": 22,
     "metadata": {},
     "output_type": "execute_result"
    }
   ],
   "source": [
    "from sklearn.metrics import confusion_matrix, plot_confusion_matrix\n",
    "confusion_matrix(y_test, y_predict)"
   ]
  },
  {
   "cell_type": "code",
   "execution_count": 24,
   "id": "63abc6b1",
   "metadata": {},
   "outputs": [
    {
     "data": {
      "text/plain": [
       "<sklearn.metrics._plot.confusion_matrix.ConfusionMatrixDisplay at 0x24cd41f7070>"
      ]
     },
     "execution_count": 24,
     "metadata": {},
     "output_type": "execute_result"
    },
    {
     "data": {
      "image/png": "[encoded data removed]",
      "text/plain": [
       "<Figure size 432x288 with 2 Axes>"
      ]
     },
     "metadata": {
      "needs_background": "light"
     },
     "output_type": "display_data"
    }
   ],
   "source": [
    "plot_confusion_matrix(knn, X_test, y_test)"
   ]
  },
  {
   "cell_type": "code",
   "execution_count": 42,
   "id": "46f0b0ae",
   "metadata": {},
   "outputs": [
    {
     "data": {
      "text/plain": [
       "0.7142857142857143"
      ]
     },
     "execution_count": 42,
     "metadata": {},
     "output_type": "execute_result"
    }
   ],
   "source": [
    "#confusion matrix to accuracy?\n",
    "(126+39)/(126+25+41+39)"
   ]
  }
 ],
 "metadata": {
  "kernelspec": {
   "display_name": "Python 3 (ipykernel)",
   "language": "python",
   "name": "python3"
  },
  "language_info": {
   "codemirror_mode": {
    "name": "ipython",
    "version": 3
   },
   "file_extension": ".py",
   "mimetype": "text/x-python",
   "name": "python",
   "nbconvert_exporter": "python",
   "pygments_lexer": "ipython3",
   "version": "3.9.7"
  }
 },
 "nbformat": 4,
 "nbformat_minor": 5
}
