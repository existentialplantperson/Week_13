{
 "cells": [
  {
   "cell_type": "markdown",
   "id": "96326038",
   "metadata": {},
   "source": [
    "#### Data Science Discussion Panel\n",
    "- Angelique Zeringue - Data Science Competency Lead at Daugherty\n",
    "- Brittany Minor - Medical Informaticist at WashU, TA\n",
    "- Jeromey Farmer - Global HEad of Data and Analytice at Kynetec, Professor at WashU, Girl Scouts of Eastern Missouri Board Member\n",
    "- Michelle Lacy - Biotechnology Data Engineering Lead at Bayer\n",
    "- Susan King - Data and Analytics LEad at DAugherty, Daugherty University Lead\n",
    "\n",
    "Typical day in your line of work?\n",
    "- agile project management, lots of meetings, lookup on youtube\n",
    "\n",
    "career change? leverage skills to benefit the change?\n",
    "- collect business acumen from previous positions, including communication\n",
    "- understand how the money flows through your organization to understand \n",
    "- understand how the data is generated; solving the structural problem of getting/understanding/analyzing data\n",
    "- don't underestimate the skills you have, emphasize what you do know\n",
    "- think through what you are bringing from your old position\n",
    "- try to find a position that transitions positions in a current field\n",
    "- susan - it's ok to play with the tools and gain an understanding as you go, have curiosity to play\n",
    "\n",
    "finding the right fit in a company?\n",
    "- how will you help me develop my skills and support my career path?\n",
    "- career development opportunities, moving up the ladder?\n",
    "- what does your mentorship program look like?\n",
    "- funding for back to school?\n",
    "- network with others who work there\n",
    "- red flag is not having any questions\n",
    "\n",
    "Interested in your pathways to data science that did not include computer science and statistics formal education\n",
    "- passion is important but overrated; find a job that you are good at\n",
    "- patience, listening and seeking out others who have done it\n",
    "- set up meetings, go to trainings\n",
    "- lifelong learning is a great characteristic to guide you\n",
    "- look for people who can help you, look for sponsors/mentors/partners\n",
    "\n",
    "Tools and resources\n",
    "- use a mental map of the data process\n",
    "- always lean on your team\n",
    "- constructive criticism and trying to break your code to make it work better\n",
    "- take breaks\n",
    "- talk it through out loud\n",
    "\n",
    "Dealing with self-doubt and imposter syndrome\n",
    "- be authentic about what you do and don't know\n",
    "- ask as many questions as you need\n",
    "- take constructive criticism\n",
    "- focus on the team if you're feeling self-doubt\n",
    "- represent yourself honestly\n",
    "- be transparent about how you understand the work, think less about you personally\n",
    "\n",
    "what roles made you love data science?\n",
    "- Jeromey - huge project supporting federal reserve, when will the us run out of money? two year project with a team of 10; so gratifying becasue the team was so diverse and so necessary to get through all of the pieces of the project\n",
    "- angelique - master's degree project, learned the most of any project and went from being completely new to being an expert on the subject\n",
    "- susan - small full stack team, creating a marketplace for data science models; really learned a lot about the systems and existed in a great atmosphere of learning on the team\n",
    "- michelle - insect problem, agricultural pest solving a big problem that was a real puzzel and getting a rewarding result by looking outside the box"
   ]
  }
 ],
 "metadata": {
  "kernelspec": {
   "display_name": "Python 3 (ipykernel)",
   "language": "python",
   "name": "python3"
  },
  "language_info": {
   "codemirror_mode": {
    "name": "ipython",
    "version": 3
   },
   "file_extension": ".py",
   "mimetype": "text/x-python",
   "name": "python",
   "nbconvert_exporter": "python",
   "pygments_lexer": "ipython3",
   "version": "3.9.7"
  }
 },
 "nbformat": 4,
 "nbformat_minor": 5
}
