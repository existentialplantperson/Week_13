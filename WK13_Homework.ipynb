{
 "cells": [
  {
   "cell_type": "markdown",
   "id": "12b2ef11",
   "metadata": {},
   "source": [
    "### Week 13 Homework\n",
    "##### Angela Spencer - December 22, 2021"
   ]
  },
  {
   "cell_type": "markdown",
   "id": "a19906ee",
   "metadata": {},
   "source": [
    "#### 1.\tDownload the dataset here: https://www.kaggle.com/sohier/calcofi and create one DataFrame for the bottle file and another for the cast file. Perform preprocessing on this dataset. You do not need to do all six types of preprocessing we discussed. For this dataset, 2-3 is all you need. "
   ]
  },
  {
   "cell_type": "code",
   "execution_count": 1,
   "id": "f2e3326d",
   "metadata": {},
   "outputs": [],
   "source": [
    "import pandas as pd\n",
    "import numpy as np\n",
    "import re\n",
    "import matplotlib.pyplot as plt\n",
    "import seaborn as sns\n",
    "from sklearn.model_selection import train_test_split\n",
    "from sklearn.linear_model import LinearRegression\n",
    "from sklearn.metrics import mean_squared_error, r2_score\n",
    "from sklearn.preprocessing import PolynomialFeatures"
   ]
  },
  {
   "cell_type": "markdown",
   "id": "2d339b29",
   "metadata": {},
   "source": [
    "https://new.data.calcofi.org/index.php/database/calcofi-database/bottle-field-descriptions\n",
    "\n",
    "https://new.data.calcofi.org/index.php/database/calcofi-database/cast-table-column-descriptions"
   ]
  },
  {
   "cell_type": "code",
   "execution_count": 2,
   "id": "6d702624",
   "metadata": {},
   "outputs": [],
   "source": [
    "#import bottle csv as a df\n",
    "bottle_df = pd.read_csv('../Datasets/bottle.csv', low_memory=False)\n",
    "\n",
    "#preserve an unaltered copy of the df\n",
    "bottle_df_original = bottle_df.copy()"
   ]
  },
  {
   "cell_type": "code",
   "execution_count": 3,
   "id": "b1fee506",
   "metadata": {},
   "outputs": [
    {
     "name": "stdout",
     "output_type": "stream",
     "text": [
      "(864863, 74)\n",
      "Index(['Cst_Cnt', 'Btl_Cnt', 'Sta_ID', 'Depth_ID', 'Depthm', 'T_degC',\n",
      "       'Salnty', 'O2ml_L', 'STheta', 'O2Sat', 'Oxy_µmol/Kg', 'BtlNum',\n",
      "       'RecInd', 'T_prec', 'T_qual', 'S_prec', 'S_qual', 'P_qual', 'O_qual',\n",
      "       'SThtaq', 'O2Satq', 'ChlorA', 'Chlqua', 'Phaeop', 'Phaqua', 'PO4uM',\n",
      "       'PO4q', 'SiO3uM', 'SiO3qu', 'NO2uM', 'NO2q', 'NO3uM', 'NO3q', 'NH3uM',\n",
      "       'NH3q', 'C14As1', 'C14A1p', 'C14A1q', 'C14As2', 'C14A2p', 'C14A2q',\n",
      "       'DarkAs', 'DarkAp', 'DarkAq', 'MeanAs', 'MeanAp', 'MeanAq', 'IncTim',\n",
      "       'LightP', 'R_Depth', 'R_TEMP', 'R_POTEMP', 'R_SALINITY', 'R_SIGMA',\n",
      "       'R_SVA', 'R_DYNHT', 'R_O2', 'R_O2Sat', 'R_SIO3', 'R_PO4', 'R_NO3',\n",
      "       'R_NO2', 'R_NH4', 'R_CHLA', 'R_PHAEO', 'R_PRES', 'R_SAMP', 'DIC1',\n",
      "       'DIC2', 'TA1', 'TA2', 'pH2', 'pH1', 'DIC Quality Comment'],\n",
      "      dtype='object')\n",
      "Cst_Cnt                  int64\n",
      "Btl_Cnt                  int64\n",
      "Sta_ID                  object\n",
      "Depth_ID                object\n",
      "Depthm                   int64\n",
      "                        ...   \n",
      "TA1                    float64\n",
      "TA2                    float64\n",
      "pH2                    float64\n",
      "pH1                    float64\n",
      "DIC Quality Comment     object\n",
      "Length: 74, dtype: object\n"
     ]
    },
    {
     "data": {
      "text/html": [
       "<div>\n",
       "<style scoped>\n",
       "    .dataframe tbody tr th:only-of-type {\n",
       "        vertical-align: middle;\n",
       "    }\n",
       "\n",
       "    .dataframe tbody tr th {\n",
       "        vertical-align: top;\n",
       "    }\n",
       "\n",
       "    .dataframe thead th {\n",
       "        text-align: right;\n",
       "    }\n",
       "</style>\n",
       "<table border=\"1\" class=\"dataframe\">\n",
       "  <thead>\n",
       "    <tr style=\"text-align: right;\">\n",
       "      <th></th>\n",
       "      <th>Cst_Cnt</th>\n",
       "      <th>Btl_Cnt</th>\n",
       "      <th>Depthm</th>\n",
       "      <th>T_degC</th>\n",
       "      <th>Salnty</th>\n",
       "      <th>O2ml_L</th>\n",
       "      <th>STheta</th>\n",
       "      <th>O2Sat</th>\n",
       "      <th>Oxy_µmol/Kg</th>\n",
       "      <th>BtlNum</th>\n",
       "      <th>...</th>\n",
       "      <th>R_CHLA</th>\n",
       "      <th>R_PHAEO</th>\n",
       "      <th>R_PRES</th>\n",
       "      <th>R_SAMP</th>\n",
       "      <th>DIC1</th>\n",
       "      <th>DIC2</th>\n",
       "      <th>TA1</th>\n",
       "      <th>TA2</th>\n",
       "      <th>pH2</th>\n",
       "      <th>pH1</th>\n",
       "    </tr>\n",
       "  </thead>\n",
       "  <tbody>\n",
       "    <tr>\n",
       "      <th>count</th>\n",
       "      <td>864863.000000</td>\n",
       "      <td>864863.000000</td>\n",
       "      <td>864863.000000</td>\n",
       "      <td>853900.000000</td>\n",
       "      <td>817509.000000</td>\n",
       "      <td>696201.000000</td>\n",
       "      <td>812174.000000</td>\n",
       "      <td>661274.000000</td>\n",
       "      <td>661268.000000</td>\n",
       "      <td>118667.000000</td>\n",
       "      <td>...</td>\n",
       "      <td>225276.000000</td>\n",
       "      <td>225275.000000</td>\n",
       "      <td>864863.000000</td>\n",
       "      <td>122006.000000</td>\n",
       "      <td>1999.000000</td>\n",
       "      <td>224.000000</td>\n",
       "      <td>2084.000000</td>\n",
       "      <td>234.000000</td>\n",
       "      <td>10.000000</td>\n",
       "      <td>84.000000</td>\n",
       "    </tr>\n",
       "    <tr>\n",
       "      <th>mean</th>\n",
       "      <td>17138.790958</td>\n",
       "      <td>432432.000000</td>\n",
       "      <td>226.831951</td>\n",
       "      <td>10.799677</td>\n",
       "      <td>33.840350</td>\n",
       "      <td>3.392468</td>\n",
       "      <td>25.819394</td>\n",
       "      <td>57.103779</td>\n",
       "      <td>148.808694</td>\n",
       "      <td>10.497426</td>\n",
       "      <td>...</td>\n",
       "      <td>0.450225</td>\n",
       "      <td>0.198599</td>\n",
       "      <td>228.395694</td>\n",
       "      <td>162.071521</td>\n",
       "      <td>2153.239714</td>\n",
       "      <td>2168.148330</td>\n",
       "      <td>2256.055845</td>\n",
       "      <td>2278.858803</td>\n",
       "      <td>7.948570</td>\n",
       "      <td>7.910983</td>\n",
       "    </tr>\n",
       "    <tr>\n",
       "      <th>std</th>\n",
       "      <td>10240.949817</td>\n",
       "      <td>249664.587267</td>\n",
       "      <td>316.050259</td>\n",
       "      <td>4.243825</td>\n",
       "      <td>0.461843</td>\n",
       "      <td>2.073256</td>\n",
       "      <td>1.167787</td>\n",
       "      <td>37.094137</td>\n",
       "      <td>90.187533</td>\n",
       "      <td>6.189688</td>\n",
       "      <td>...</td>\n",
       "      <td>1.208566</td>\n",
       "      <td>0.376539</td>\n",
       "      <td>319.456731</td>\n",
       "      <td>85.722796</td>\n",
       "      <td>112.995202</td>\n",
       "      <td>154.852332</td>\n",
       "      <td>34.844435</td>\n",
       "      <td>58.496495</td>\n",
       "      <td>0.021216</td>\n",
       "      <td>0.077666</td>\n",
       "    </tr>\n",
       "    <tr>\n",
       "      <th>min</th>\n",
       "      <td>1.000000</td>\n",
       "      <td>1.000000</td>\n",
       "      <td>0.000000</td>\n",
       "      <td>1.440000</td>\n",
       "      <td>28.431000</td>\n",
       "      <td>-0.010000</td>\n",
       "      <td>20.934000</td>\n",
       "      <td>-0.100000</td>\n",
       "      <td>-0.434900</td>\n",
       "      <td>0.000000</td>\n",
       "      <td>...</td>\n",
       "      <td>-0.010000</td>\n",
       "      <td>-3.890000</td>\n",
       "      <td>0.000000</td>\n",
       "      <td>0.000000</td>\n",
       "      <td>1948.850000</td>\n",
       "      <td>1969.440000</td>\n",
       "      <td>2181.570000</td>\n",
       "      <td>2198.150000</td>\n",
       "      <td>7.923100</td>\n",
       "      <td>7.618300</td>\n",
       "    </tr>\n",
       "    <tr>\n",
       "      <th>25%</th>\n",
       "      <td>8269.000000</td>\n",
       "      <td>216216.500000</td>\n",
       "      <td>46.000000</td>\n",
       "      <td>7.680000</td>\n",
       "      <td>33.488000</td>\n",
       "      <td>1.360000</td>\n",
       "      <td>24.965000</td>\n",
       "      <td>21.100000</td>\n",
       "      <td>60.915470</td>\n",
       "      <td>5.000000</td>\n",
       "      <td>...</td>\n",
       "      <td>0.050000</td>\n",
       "      <td>0.050000</td>\n",
       "      <td>46.000000</td>\n",
       "      <td>200.000000</td>\n",
       "      <td>2028.330000</td>\n",
       "      <td>2008.977500</td>\n",
       "      <td>2230.322500</td>\n",
       "      <td>2229.062500</td>\n",
       "      <td>7.931475</td>\n",
       "      <td>7.898675</td>\n",
       "    </tr>\n",
       "    <tr>\n",
       "      <th>50%</th>\n",
       "      <td>16848.000000</td>\n",
       "      <td>432432.000000</td>\n",
       "      <td>125.000000</td>\n",
       "      <td>10.060000</td>\n",
       "      <td>33.863000</td>\n",
       "      <td>3.440000</td>\n",
       "      <td>25.996000</td>\n",
       "      <td>54.400000</td>\n",
       "      <td>151.064150</td>\n",
       "      <td>10.000000</td>\n",
       "      <td>...</td>\n",
       "      <td>0.160000</td>\n",
       "      <td>0.110000</td>\n",
       "      <td>126.000000</td>\n",
       "      <td>206.000000</td>\n",
       "      <td>2170.640000</td>\n",
       "      <td>2265.885000</td>\n",
       "      <td>2244.325000</td>\n",
       "      <td>2247.505000</td>\n",
       "      <td>7.946650</td>\n",
       "      <td>7.928850</td>\n",
       "    </tr>\n",
       "    <tr>\n",
       "      <th>75%</th>\n",
       "      <td>26557.000000</td>\n",
       "      <td>648647.500000</td>\n",
       "      <td>300.000000</td>\n",
       "      <td>13.880000</td>\n",
       "      <td>34.196900</td>\n",
       "      <td>5.500000</td>\n",
       "      <td>26.646000</td>\n",
       "      <td>97.600000</td>\n",
       "      <td>240.379600</td>\n",
       "      <td>16.000000</td>\n",
       "      <td>...</td>\n",
       "      <td>0.390000</td>\n",
       "      <td>0.230000</td>\n",
       "      <td>302.000000</td>\n",
       "      <td>214.000000</td>\n",
       "      <td>2253.810000</td>\n",
       "      <td>2315.525000</td>\n",
       "      <td>2278.505000</td>\n",
       "      <td>2316.452500</td>\n",
       "      <td>7.963300</td>\n",
       "      <td>7.955100</td>\n",
       "    </tr>\n",
       "    <tr>\n",
       "      <th>max</th>\n",
       "      <td>34404.000000</td>\n",
       "      <td>864863.000000</td>\n",
       "      <td>5351.000000</td>\n",
       "      <td>31.140000</td>\n",
       "      <td>37.034000</td>\n",
       "      <td>11.130000</td>\n",
       "      <td>250.784000</td>\n",
       "      <td>214.100000</td>\n",
       "      <td>485.701800</td>\n",
       "      <td>25.000000</td>\n",
       "      <td>...</td>\n",
       "      <td>66.110000</td>\n",
       "      <td>65.300000</td>\n",
       "      <td>5458.000000</td>\n",
       "      <td>424.000000</td>\n",
       "      <td>2367.800000</td>\n",
       "      <td>2364.420000</td>\n",
       "      <td>2434.900000</td>\n",
       "      <td>2437.000000</td>\n",
       "      <td>7.988300</td>\n",
       "      <td>8.047700</td>\n",
       "    </tr>\n",
       "  </tbody>\n",
       "</table>\n",
       "<p>8 rows × 70 columns</p>\n",
       "</div>"
      ],
      "text/plain": [
       "             Cst_Cnt        Btl_Cnt         Depthm         T_degC  \\\n",
       "count  864863.000000  864863.000000  864863.000000  853900.000000   \n",
       "mean    17138.790958  432432.000000     226.831951      10.799677   \n",
       "std     10240.949817  249664.587267     316.050259       4.243825   \n",
       "min         1.000000       1.000000       0.000000       1.440000   \n",
       "25%      8269.000000  216216.500000      46.000000       7.680000   \n",
       "50%     16848.000000  432432.000000     125.000000      10.060000   \n",
       "75%     26557.000000  648647.500000     300.000000      13.880000   \n",
       "max     34404.000000  864863.000000    5351.000000      31.140000   \n",
       "\n",
       "              Salnty         O2ml_L         STheta          O2Sat  \\\n",
       "count  817509.000000  696201.000000  812174.000000  661274.000000   \n",
       "mean       33.840350       3.392468      25.819394      57.103779   \n",
       "std         0.461843       2.073256       1.167787      37.094137   \n",
       "min        28.431000      -0.010000      20.934000      -0.100000   \n",
       "25%        33.488000       1.360000      24.965000      21.100000   \n",
       "50%        33.863000       3.440000      25.996000      54.400000   \n",
       "75%        34.196900       5.500000      26.646000      97.600000   \n",
       "max        37.034000      11.130000     250.784000     214.100000   \n",
       "\n",
       "         Oxy_µmol/Kg         BtlNum  ...         R_CHLA        R_PHAEO  \\\n",
       "count  661268.000000  118667.000000  ...  225276.000000  225275.000000   \n",
       "mean      148.808694      10.497426  ...       0.450225       0.198599   \n",
       "std        90.187533       6.189688  ...       1.208566       0.376539   \n",
       "min        -0.434900       0.000000  ...      -0.010000      -3.890000   \n",
       "25%        60.915470       5.000000  ...       0.050000       0.050000   \n",
       "50%       151.064150      10.000000  ...       0.160000       0.110000   \n",
       "75%       240.379600      16.000000  ...       0.390000       0.230000   \n",
       "max       485.701800      25.000000  ...      66.110000      65.300000   \n",
       "\n",
       "              R_PRES         R_SAMP         DIC1         DIC2          TA1  \\\n",
       "count  864863.000000  122006.000000  1999.000000   224.000000  2084.000000   \n",
       "mean      228.395694     162.071521  2153.239714  2168.148330  2256.055845   \n",
       "std       319.456731      85.722796   112.995202   154.852332    34.844435   \n",
       "min         0.000000       0.000000  1948.850000  1969.440000  2181.570000   \n",
       "25%        46.000000     200.000000  2028.330000  2008.977500  2230.322500   \n",
       "50%       126.000000     206.000000  2170.640000  2265.885000  2244.325000   \n",
       "75%       302.000000     214.000000  2253.810000  2315.525000  2278.505000   \n",
       "max      5458.000000     424.000000  2367.800000  2364.420000  2434.900000   \n",
       "\n",
       "               TA2        pH2        pH1  \n",
       "count   234.000000  10.000000  84.000000  \n",
       "mean   2278.858803   7.948570   7.910983  \n",
       "std      58.496495   0.021216   0.077666  \n",
       "min    2198.150000   7.923100   7.618300  \n",
       "25%    2229.062500   7.931475   7.898675  \n",
       "50%    2247.505000   7.946650   7.928850  \n",
       "75%    2316.452500   7.963300   7.955100  \n",
       "max    2437.000000   7.988300   8.047700  \n",
       "\n",
       "[8 rows x 70 columns]"
      ]
     },
     "execution_count": 3,
     "metadata": {},
     "output_type": "execute_result"
    }
   ],
   "source": [
    "#check shape, column labels, and description of data\n",
    "print(bottle_df.shape)\n",
    "print(bottle_df.columns)\n",
    "print(bottle_df.dtypes)\n",
    "bottle_df.describe()"
   ]
  },
  {
   "cell_type": "markdown",
   "id": "cf2546e8",
   "metadata": {},
   "source": [
    "##### Preprocessing null values"
   ]
  },
  {
   "cell_type": "code",
   "execution_count": 4,
   "id": "0192d548",
   "metadata": {},
   "outputs": [
    {
     "data": {
      "text/plain": [
       "Cst_Cnt                     0\n",
       "Btl_Cnt                     0\n",
       "Sta_ID                      0\n",
       "Depth_ID                    0\n",
       "Depthm                      0\n",
       "                        ...  \n",
       "TA1                    862779\n",
       "TA2                    864629\n",
       "pH2                    864853\n",
       "pH1                    864779\n",
       "DIC Quality Comment    864808\n",
       "Length: 74, dtype: int64"
      ]
     },
     "execution_count": 4,
     "metadata": {},
     "output_type": "execute_result"
    }
   ],
   "source": [
    "#where are the NaNs in this dataset\n",
    "bottle_df.isnull().sum()"
   ]
  },
  {
   "cell_type": "code",
   "execution_count": 5,
   "id": "9581dfdc",
   "metadata": {},
   "outputs": [
    {
     "name": "stdout",
     "output_type": "stream",
     "text": [
      "(864863, 24)\n"
     ]
    },
    {
     "data": {
      "text/plain": [
       "Index(['Cst_Cnt', 'Btl_Cnt', 'Sta_ID', 'Depth_ID', 'Depthm', 'T_degC',\n",
       "       'Salnty', 'STheta', 'RecInd', 'T_prec', 'S_prec', 'NH3q', 'C14A1q',\n",
       "       'C14A2q', 'DarkAq', 'MeanAq', 'R_Depth', 'R_TEMP', 'R_POTEMP',\n",
       "       'R_SALINITY', 'R_SIGMA', 'R_SVA', 'R_DYNHT', 'R_PRES'],\n",
       "      dtype='object')"
      ]
     },
     "execution_count": 5,
     "metadata": {},
     "output_type": "execute_result"
    }
   ],
   "source": [
    "#733418 X 24 - 800000 threshhold\n",
    "#733418 X 24 - 700000\n",
    "#454322 X 30 - 650000\n",
    "#380282 X 32 - 600000\n",
    "#299536 X 35 - 500000\n",
    "#drop columns with many null values\n",
    "bottle_df.dropna(axis=1, thresh=700000, inplace=True)\n",
    "print(bottle_df.shape)\n",
    "bottle_df.columns"
   ]
  },
  {
   "cell_type": "code",
   "execution_count": 6,
   "id": "d2731661",
   "metadata": {},
   "outputs": [
    {
     "name": "stdout",
     "output_type": "stream",
     "text": [
      "(733418, 24)\n"
     ]
    }
   ],
   "source": [
    "#drop rows with any null values\n",
    "bottle_df.dropna(axis=0, inplace=True)\n",
    "print(bottle_df.shape)"
   ]
  },
  {
   "cell_type": "code",
   "execution_count": 7,
   "id": "597329b1",
   "metadata": {},
   "outputs": [
    {
     "name": "stdout",
     "output_type": "stream",
     "text": [
      "0\n"
     ]
    }
   ],
   "source": [
    "# no null values remain\n",
    "print(bottle_df.isnull().sum().sum())\n",
    "\n",
    "#reset index\n",
    "bottle_df.reset_index(inplace=True)"
   ]
  },
  {
   "cell_type": "code",
   "execution_count": 8,
   "id": "6f7e7286",
   "metadata": {},
   "outputs": [
    {
     "name": "stdout",
     "output_type": "stream",
     "text": [
      "(34404, 61)\n"
     ]
    },
    {
     "data": {
      "text/plain": [
       "Index(['Cst_Cnt', 'Cruise_ID', 'Cruise', 'Cruz_Sta', 'DbSta_ID', 'Cast_ID',\n",
       "       'Sta_ID', 'Quarter', 'Sta_Code', 'Distance', 'Date', 'Year', 'Month',\n",
       "       'Julian_Date', 'Julian_Day', 'Time', 'Lat_Dec', 'Lat_Deg', 'Lat_Min',\n",
       "       'Lat_Hem', 'Lon_Dec', 'Lon_Deg', 'Lon_Min', 'Lon_Hem', 'Rpt_Line',\n",
       "       'St_Line', 'Ac_Line', 'Rpt_Sta', 'St_Station', 'Ac_Sta', 'Bottom_D',\n",
       "       'Secchi', 'ForelU', 'Ship_Name', 'Ship_Code', 'Data_Type', 'Order_Occ',\n",
       "       'Event_Num', 'Cruz_Leg', 'Orig_Sta_ID', 'Data_Or', 'Cruz_Num', 'IntChl',\n",
       "       'IntC14', 'Inc_Str', 'Inc_End', 'PST_LAN', 'Civil_T', 'TimeZone',\n",
       "       'Wave_Dir', 'Wave_Ht', 'Wave_Prd', 'Wind_Dir', 'Wind_Spd', 'Barometer',\n",
       "       'Dry_T', 'Wet_T', 'Wea', 'Cloud_Typ', 'Cloud_Amt', 'Visibility'],\n",
       "      dtype='object')"
      ]
     },
     "execution_count": 8,
     "metadata": {},
     "output_type": "execute_result"
    }
   ],
   "source": [
    "#import cast csv as a df and check chape and column labels\n",
    "cast_df = pd.read_csv('../Datasets/cast.csv', low_memory=False)\n",
    "\n",
    "#preserve an unaltered copy of the df\n",
    "cast_df_original = cast_df.copy()\n",
    "\n",
    "#check shape and column labels\n",
    "print(cast_df.shape)\n",
    "cast_df.columns"
   ]
  },
  {
   "cell_type": "code",
   "execution_count": 9,
   "id": "285074c6",
   "metadata": {},
   "outputs": [
    {
     "data": {
      "text/plain": [
       "Cst_Cnt           0\n",
       "Cruise_ID         0\n",
       "Cruise            0\n",
       "Cruz_Sta          0\n",
       "DbSta_ID          0\n",
       "              ...  \n",
       "Wet_T         15415\n",
       "Wea            7597\n",
       "Cloud_Typ     24484\n",
       "Cloud_Amt     22522\n",
       "Visibility    24897\n",
       "Length: 61, dtype: int64"
      ]
     },
     "execution_count": 9,
     "metadata": {},
     "output_type": "execute_result"
    }
   ],
   "source": [
    "cast_df.isnull().sum()"
   ]
  },
  {
   "cell_type": "code",
   "execution_count": 10,
   "id": "ee249cb4",
   "metadata": {},
   "outputs": [
    {
     "data": {
      "text/plain": [
       "(34404, 38)"
      ]
     },
     "execution_count": 10,
     "metadata": {},
     "output_type": "execute_result"
    }
   ],
   "source": [
    "#drop columns with many null values\n",
    "cast_df.dropna(axis=1, thresh=30000, inplace=True)\n",
    "cast_df.shape"
   ]
  },
  {
   "cell_type": "code",
   "execution_count": 11,
   "id": "21865fc0",
   "metadata": {},
   "outputs": [
    {
     "data": {
      "text/plain": [
       "(28746, 38)"
      ]
     },
     "execution_count": 11,
     "metadata": {},
     "output_type": "execute_result"
    }
   ],
   "source": [
    "#drop rows with any null values\n",
    "cast_df.dropna(axis=0, inplace=True)\n",
    "cast_df.shape"
   ]
  },
  {
   "cell_type": "markdown",
   "id": "3757c54a",
   "metadata": {},
   "source": [
    "#### Preprocessing - feature engineering"
   ]
  },
  {
   "cell_type": "code",
   "execution_count": 12,
   "id": "9d4ee81e",
   "metadata": {},
   "outputs": [
    {
     "data": {
      "text/html": [
       "<div>\n",
       "<style scoped>\n",
       "    .dataframe tbody tr th:only-of-type {\n",
       "        vertical-align: middle;\n",
       "    }\n",
       "\n",
       "    .dataframe tbody tr th {\n",
       "        vertical-align: top;\n",
       "    }\n",
       "\n",
       "    .dataframe thead th {\n",
       "        text-align: right;\n",
       "    }\n",
       "</style>\n",
       "<table border=\"1\" class=\"dataframe\">\n",
       "  <thead>\n",
       "    <tr style=\"text-align: right;\">\n",
       "      <th></th>\n",
       "      <th>Sta_ID</th>\n",
       "      <th>Depth_ID</th>\n",
       "    </tr>\n",
       "  </thead>\n",
       "  <tbody>\n",
       "    <tr>\n",
       "      <th>0</th>\n",
       "      <td>054.0 056.0</td>\n",
       "      <td>19-4903CR-HY-060-0930-05400560-0000A-3</td>\n",
       "    </tr>\n",
       "    <tr>\n",
       "      <th>1</th>\n",
       "      <td>054.0 056.0</td>\n",
       "      <td>19-4903CR-HY-060-0930-05400560-0008A-3</td>\n",
       "    </tr>\n",
       "    <tr>\n",
       "      <th>2</th>\n",
       "      <td>054.0 056.0</td>\n",
       "      <td>19-4903CR-HY-060-0930-05400560-0010A-7</td>\n",
       "    </tr>\n",
       "    <tr>\n",
       "      <th>3</th>\n",
       "      <td>054.0 056.0</td>\n",
       "      <td>19-4903CR-HY-060-0930-05400560-0019A-3</td>\n",
       "    </tr>\n",
       "    <tr>\n",
       "      <th>4</th>\n",
       "      <td>054.0 056.0</td>\n",
       "      <td>19-4903CR-HY-060-0930-05400560-0020A-7</td>\n",
       "    </tr>\n",
       "  </tbody>\n",
       "</table>\n",
       "</div>"
      ],
      "text/plain": [
       "        Sta_ID                                Depth_ID\n",
       "0  054.0 056.0  19-4903CR-HY-060-0930-05400560-0000A-3\n",
       "1  054.0 056.0  19-4903CR-HY-060-0930-05400560-0008A-3\n",
       "2  054.0 056.0  19-4903CR-HY-060-0930-05400560-0010A-7\n",
       "3  054.0 056.0  19-4903CR-HY-060-0930-05400560-0019A-3\n",
       "4  054.0 056.0  19-4903CR-HY-060-0930-05400560-0020A-7"
      ]
     },
     "execution_count": 12,
     "metadata": {},
     "output_type": "execute_result"
    }
   ],
   "source": [
    "#extract year from Depth_ID (first two digits-second two digits)\n",
    "#extract station ID for location information(first three digits.one digit)\n",
    "bottle_df.select_dtypes(include=['object']).head(5)"
   ]
  },
  {
   "cell_type": "code",
   "execution_count": 13,
   "id": "0a325581",
   "metadata": {},
   "outputs": [
    {
     "name": "stdout",
     "output_type": "stream",
     "text": [
      "054.0\n"
     ]
    }
   ],
   "source": [
    "#https://docs.python.org/3/library/re.html\n",
    "#example extraction to get it working\n",
    "example = '054.0 056.0'\n",
    "pattern = re.compile(\"\\d+\\.+\\d\")\n",
    "station = re.match(pattern, example)\n",
    "print(str(station.group(0)))"
   ]
  },
  {
   "cell_type": "code",
   "execution_count": 14,
   "id": "0942df59",
   "metadata": {},
   "outputs": [
    {
     "data": {
      "text/html": [
       "<div>\n",
       "<style scoped>\n",
       "    .dataframe tbody tr th:only-of-type {\n",
       "        vertical-align: middle;\n",
       "    }\n",
       "\n",
       "    .dataframe tbody tr th {\n",
       "        vertical-align: top;\n",
       "    }\n",
       "\n",
       "    .dataframe thead th {\n",
       "        text-align: right;\n",
       "    }\n",
       "</style>\n",
       "<table border=\"1\" class=\"dataframe\">\n",
       "  <thead>\n",
       "    <tr style=\"text-align: right;\">\n",
       "      <th></th>\n",
       "      <th>Sta_ID</th>\n",
       "      <th>station_ext</th>\n",
       "    </tr>\n",
       "  </thead>\n",
       "  <tbody>\n",
       "    <tr>\n",
       "      <th>0</th>\n",
       "      <td>054.0 056.0</td>\n",
       "      <td>054.0</td>\n",
       "    </tr>\n",
       "    <tr>\n",
       "      <th>1</th>\n",
       "      <td>054.0 056.0</td>\n",
       "      <td>054.0</td>\n",
       "    </tr>\n",
       "    <tr>\n",
       "      <th>2</th>\n",
       "      <td>054.0 056.0</td>\n",
       "      <td>054.0</td>\n",
       "    </tr>\n",
       "    <tr>\n",
       "      <th>3</th>\n",
       "      <td>054.0 056.0</td>\n",
       "      <td>054.0</td>\n",
       "    </tr>\n",
       "    <tr>\n",
       "      <th>4</th>\n",
       "      <td>054.0 056.0</td>\n",
       "      <td>054.0</td>\n",
       "    </tr>\n",
       "    <tr>\n",
       "      <th>...</th>\n",
       "      <td>...</td>\n",
       "      <td>...</td>\n",
       "    </tr>\n",
       "    <tr>\n",
       "      <th>733413</th>\n",
       "      <td>093.3 120.0</td>\n",
       "      <td>093.3</td>\n",
       "    </tr>\n",
       "    <tr>\n",
       "      <th>733414</th>\n",
       "      <td>093.3 120.0</td>\n",
       "      <td>093.3</td>\n",
       "    </tr>\n",
       "    <tr>\n",
       "      <th>733415</th>\n",
       "      <td>093.3 120.0</td>\n",
       "      <td>093.3</td>\n",
       "    </tr>\n",
       "    <tr>\n",
       "      <th>733416</th>\n",
       "      <td>093.4 026.4</td>\n",
       "      <td>093.4</td>\n",
       "    </tr>\n",
       "    <tr>\n",
       "      <th>733417</th>\n",
       "      <td>093.4 026.4</td>\n",
       "      <td>093.4</td>\n",
       "    </tr>\n",
       "  </tbody>\n",
       "</table>\n",
       "<p>733418 rows × 2 columns</p>\n",
       "</div>"
      ],
      "text/plain": [
       "             Sta_ID station_ext\n",
       "0       054.0 056.0       054.0\n",
       "1       054.0 056.0       054.0\n",
       "2       054.0 056.0       054.0\n",
       "3       054.0 056.0       054.0\n",
       "4       054.0 056.0       054.0\n",
       "...             ...         ...\n",
       "733413  093.3 120.0       093.3\n",
       "733414  093.3 120.0       093.3\n",
       "733415  093.3 120.0       093.3\n",
       "733416  093.4 026.4       093.4\n",
       "733417  093.4 026.4       093.4\n",
       "\n",
       "[733418 rows x 2 columns]"
      ]
     },
     "execution_count": 14,
     "metadata": {},
     "output_type": "execute_result"
    }
   ],
   "source": [
    "#create function to extract station ID from Sta_ID column\n",
    "def extract_id(example):\n",
    "    pattern = re.compile(\"\\d+\\.+\\d\")\n",
    "    station = re.match(pattern, example)\n",
    "    #if station is not None:\n",
    "    return str(station.group(0))\n",
    "\n",
    "#apply function to sta_id column, create a new column for extracted value\n",
    "bottle_df['station_ext'] = bottle_df['Sta_ID'].apply(lambda row: extract_id(row))\n",
    "bottle_df[['Sta_ID', 'station_ext']]"
   ]
  },
  {
   "cell_type": "code",
   "execution_count": 15,
   "id": "870c2291",
   "metadata": {},
   "outputs": [
    {
     "data": {
      "text/plain": [
       "1949"
      ]
     },
     "execution_count": 15,
     "metadata": {},
     "output_type": "execute_result"
    }
   ],
   "source": [
    "#extract year from Depth_ID column\n",
    "#example to get it working\n",
    "example = '19-4903CR-HY-060-0930-05400560-0000A-3'\n",
    "pattern = re.compile(\"\\d+\\-+\\d{2}\")\n",
    "year = re.match(pattern, example)\n",
    "year_str = str(year.group(0)).replace('-', '')\n",
    "year_int = int(year_str)\n",
    "year_int"
   ]
  },
  {
   "cell_type": "code",
   "execution_count": 16,
   "id": "020b5f9c",
   "metadata": {},
   "outputs": [
    {
     "data": {
      "text/html": [
       "<div>\n",
       "<style scoped>\n",
       "    .dataframe tbody tr th:only-of-type {\n",
       "        vertical-align: middle;\n",
       "    }\n",
       "\n",
       "    .dataframe tbody tr th {\n",
       "        vertical-align: top;\n",
       "    }\n",
       "\n",
       "    .dataframe thead th {\n",
       "        text-align: right;\n",
       "    }\n",
       "</style>\n",
       "<table border=\"1\" class=\"dataframe\">\n",
       "  <thead>\n",
       "    <tr style=\"text-align: right;\">\n",
       "      <th></th>\n",
       "      <th>year</th>\n",
       "      <th>Depth_ID</th>\n",
       "    </tr>\n",
       "  </thead>\n",
       "  <tbody>\n",
       "    <tr>\n",
       "      <th>0</th>\n",
       "      <td>1949</td>\n",
       "      <td>19-4903CR-HY-060-0930-05400560-0000A-3</td>\n",
       "    </tr>\n",
       "    <tr>\n",
       "      <th>1</th>\n",
       "      <td>1949</td>\n",
       "      <td>19-4903CR-HY-060-0930-05400560-0008A-3</td>\n",
       "    </tr>\n",
       "    <tr>\n",
       "      <th>2</th>\n",
       "      <td>1949</td>\n",
       "      <td>19-4903CR-HY-060-0930-05400560-0010A-7</td>\n",
       "    </tr>\n",
       "    <tr>\n",
       "      <th>3</th>\n",
       "      <td>1949</td>\n",
       "      <td>19-4903CR-HY-060-0930-05400560-0019A-3</td>\n",
       "    </tr>\n",
       "    <tr>\n",
       "      <th>4</th>\n",
       "      <td>1949</td>\n",
       "      <td>19-4903CR-HY-060-0930-05400560-0020A-7</td>\n",
       "    </tr>\n",
       "  </tbody>\n",
       "</table>\n",
       "</div>"
      ],
      "text/plain": [
       "   year                                Depth_ID\n",
       "0  1949  19-4903CR-HY-060-0930-05400560-0000A-3\n",
       "1  1949  19-4903CR-HY-060-0930-05400560-0008A-3\n",
       "2  1949  19-4903CR-HY-060-0930-05400560-0010A-7\n",
       "3  1949  19-4903CR-HY-060-0930-05400560-0019A-3\n",
       "4  1949  19-4903CR-HY-060-0930-05400560-0020A-7"
      ]
     },
     "execution_count": 16,
     "metadata": {},
     "output_type": "execute_result"
    }
   ],
   "source": [
    "def extract_year(ex2):\n",
    "    pattern = re.compile(\"\\d+\\-+\\d{2}\")\n",
    "    year = re.match(pattern, ex2)\n",
    "    year_str = str(year.group(0)).replace('-', '')\n",
    "    return int(year_str)\n",
    "\n",
    "#apply function to Depth_ID column, create new column for extracted year\n",
    "bottle_df['year'] = bottle_df['Depth_ID'].apply(lambda row: extract_year(row))\n",
    "#convert year to datetime\n",
    "pd.to_datetime(bottle_df['year'], format='%Y').dt.year\n",
    "bottle_df[['year', 'Depth_ID']].head()"
   ]
  },
  {
   "cell_type": "markdown",
   "id": "05148e09",
   "metadata": {},
   "source": [
    "#### Preprocessing, dropping redundant columns"
   ]
  },
  {
   "cell_type": "code",
   "execution_count": 17,
   "id": "985bf556",
   "metadata": {},
   "outputs": [
    {
     "data": {
      "text/plain": [
       "Index(['index', 'Cst_Cnt', 'Btl_Cnt', 'Sta_ID', 'Depth_ID', 'Depthm', 'T_degC',\n",
       "       'Salnty', 'STheta', 'RecInd', 'T_prec', 'S_prec', 'NH3q', 'C14A1q',\n",
       "       'C14A2q', 'DarkAq', 'MeanAq', 'R_Depth', 'R_TEMP', 'R_POTEMP',\n",
       "       'R_SALINITY', 'R_SIGMA', 'R_SVA', 'R_DYNHT', 'R_PRES', 'station_ext',\n",
       "       'year'],\n",
       "      dtype='object')"
      ]
     },
     "execution_count": 17,
     "metadata": {},
     "output_type": "execute_result"
    }
   ],
   "source": [
    "bottle_df.columns"
   ]
  },
  {
   "cell_type": "code",
   "execution_count": 18,
   "id": "da75cb40",
   "metadata": {},
   "outputs": [],
   "source": [
    "columns_to_drop =['Depth_ID', 'Sta_ID', 'station_ext', 'Cst_Cnt', 'Btl_Cnt',\n",
    "                 'RecInd', 'T_prec', 'S_prec', 'NH3q', 'C14A1q', 'C14A2q', \n",
    "                 'DarkAq', 'MeanAq', 'R_Depth', 'R_TEMP', 'R_POTEMP', 'R_SALINITY',\n",
    "                  'R_SIGMA', 'index']\n",
    "\n",
    "bottle_df.drop(columns_to_drop, axis=1, inplace=True)"
   ]
  },
  {
   "cell_type": "code",
   "execution_count": 19,
   "id": "ff4358d1",
   "metadata": {},
   "outputs": [
    {
     "data": {
      "text/plain": [
       "Index(['Depthm', 'T_degC', 'Salnty', 'STheta', 'R_SVA', 'R_DYNHT', 'R_PRES',\n",
       "       'year'],\n",
       "      dtype='object')"
      ]
     },
     "execution_count": 19,
     "metadata": {},
     "output_type": "execute_result"
    }
   ],
   "source": [
    "bottle_df.columns"
   ]
  },
  {
   "cell_type": "code",
   "execution_count": 20,
   "id": "5278077e",
   "metadata": {},
   "outputs": [],
   "source": [
    "bottle_df.rename(columns = {'Depthm':'depth', 'T_degC':'temp', 'Salnty':'salinity', \n",
    "                 'STheta':'pot_density', 'R_SVA': 'spec_vol_anomaly', \n",
    "                 'R_DYNHT':'dynamic_height', 'R_PRES':'pressure'}, inplace=True)"
   ]
  },
  {
   "cell_type": "markdown",
   "id": "fc445cb7",
   "metadata": {},
   "source": [
    "#### Preprocessing, standardizing"
   ]
  },
  {
   "cell_type": "code",
   "execution_count": 21,
   "id": "bba0ea88",
   "metadata": {},
   "outputs": [
    {
     "data": {
      "text/plain": [
       "depth               95544.894736\n",
       "temp                   18.001235\n",
       "salinity                0.212519\n",
       "pot_density             1.394544\n",
       "spec_vol_anomaly     8671.128061\n",
       "dynamic_height          0.151014\n",
       "pressure            97568.311893\n",
       "year                  330.518038\n",
       "dtype: float64"
      ]
     },
     "execution_count": 21,
     "metadata": {},
     "output_type": "execute_result"
    }
   ],
   "source": [
    "#check variance of each column\n",
    "bottle_df.var()"
   ]
  },
  {
   "cell_type": "code",
   "execution_count": 22,
   "id": "04962b96",
   "metadata": {},
   "outputs": [],
   "source": [
    "#log normalize columns with high variance\n",
    "columns_to_log_norm = ['depth', 'spec_vol_anomaly', 'pressure']\n",
    "    \n",
    "for column in columns_to_log_norm:\n",
    "    bottle_df['log_'+column] = np.log(bottle_df[column]+1)\n",
    "        "
   ]
  },
  {
   "cell_type": "code",
   "execution_count": 23,
   "id": "38444b1c",
   "metadata": {},
   "outputs": [
    {
     "data": {
      "text/html": [
       "<div>\n",
       "<style scoped>\n",
       "    .dataframe tbody tr th:only-of-type {\n",
       "        vertical-align: middle;\n",
       "    }\n",
       "\n",
       "    .dataframe tbody tr th {\n",
       "        vertical-align: top;\n",
       "    }\n",
       "\n",
       "    .dataframe thead th {\n",
       "        text-align: right;\n",
       "    }\n",
       "</style>\n",
       "<table border=\"1\" class=\"dataframe\">\n",
       "  <thead>\n",
       "    <tr style=\"text-align: right;\">\n",
       "      <th></th>\n",
       "      <th>depth</th>\n",
       "      <th>log_depth</th>\n",
       "      <th>spec_vol_anomaly</th>\n",
       "      <th>log_spec_vol_anomaly</th>\n",
       "      <th>pressure</th>\n",
       "      <th>log_pressure</th>\n",
       "    </tr>\n",
       "  </thead>\n",
       "  <tbody>\n",
       "    <tr>\n",
       "      <th>0</th>\n",
       "      <td>0</td>\n",
       "      <td>0.000000</td>\n",
       "      <td>233.0</td>\n",
       "      <td>5.455321</td>\n",
       "      <td>0</td>\n",
       "      <td>0.000000</td>\n",
       "    </tr>\n",
       "    <tr>\n",
       "      <th>1</th>\n",
       "      <td>8</td>\n",
       "      <td>2.197225</td>\n",
       "      <td>232.5</td>\n",
       "      <td>5.453182</td>\n",
       "      <td>8</td>\n",
       "      <td>2.197225</td>\n",
       "    </tr>\n",
       "    <tr>\n",
       "      <th>2</th>\n",
       "      <td>10</td>\n",
       "      <td>2.397895</td>\n",
       "      <td>232.8</td>\n",
       "      <td>5.454466</td>\n",
       "      <td>10</td>\n",
       "      <td>2.397895</td>\n",
       "    </tr>\n",
       "    <tr>\n",
       "      <th>3</th>\n",
       "      <td>19</td>\n",
       "      <td>2.995732</td>\n",
       "      <td>234.1</td>\n",
       "      <td>5.460011</td>\n",
       "      <td>19</td>\n",
       "      <td>2.995732</td>\n",
       "    </tr>\n",
       "    <tr>\n",
       "      <th>4</th>\n",
       "      <td>20</td>\n",
       "      <td>3.044522</td>\n",
       "      <td>234.0</td>\n",
       "      <td>5.459586</td>\n",
       "      <td>20</td>\n",
       "      <td>3.044522</td>\n",
       "    </tr>\n",
       "    <tr>\n",
       "      <th>...</th>\n",
       "      <td>...</td>\n",
       "      <td>...</td>\n",
       "      <td>...</td>\n",
       "      <td>...</td>\n",
       "      <td>...</td>\n",
       "      <td>...</td>\n",
       "    </tr>\n",
       "    <tr>\n",
       "      <th>733413</th>\n",
       "      <td>440</td>\n",
       "      <td>6.089045</td>\n",
       "      <td>125.3</td>\n",
       "      <td>4.838660</td>\n",
       "      <td>444</td>\n",
       "      <td>6.098074</td>\n",
       "    </tr>\n",
       "    <tr>\n",
       "      <th>733414</th>\n",
       "      <td>500</td>\n",
       "      <td>6.216606</td>\n",
       "      <td>117.5</td>\n",
       "      <td>4.774913</td>\n",
       "      <td>504</td>\n",
       "      <td>6.224558</td>\n",
       "    </tr>\n",
       "    <tr>\n",
       "      <th>733415</th>\n",
       "      <td>521</td>\n",
       "      <td>6.257668</td>\n",
       "      <td>113.9</td>\n",
       "      <td>4.744062</td>\n",
       "      <td>525</td>\n",
       "      <td>6.265301</td>\n",
       "    </tr>\n",
       "    <tr>\n",
       "      <th>733416</th>\n",
       "      <td>2</td>\n",
       "      <td>1.098612</td>\n",
       "      <td>402.5</td>\n",
       "      <td>6.000176</td>\n",
       "      <td>2</td>\n",
       "      <td>1.098612</td>\n",
       "    </tr>\n",
       "    <tr>\n",
       "      <th>733417</th>\n",
       "      <td>5</td>\n",
       "      <td>1.791759</td>\n",
       "      <td>400.8</td>\n",
       "      <td>5.995954</td>\n",
       "      <td>5</td>\n",
       "      <td>1.791759</td>\n",
       "    </tr>\n",
       "  </tbody>\n",
       "</table>\n",
       "<p>733418 rows × 6 columns</p>\n",
       "</div>"
      ],
      "text/plain": [
       "        depth  log_depth  spec_vol_anomaly  log_spec_vol_anomaly  pressure  \\\n",
       "0           0   0.000000             233.0              5.455321         0   \n",
       "1           8   2.197225             232.5              5.453182         8   \n",
       "2          10   2.397895             232.8              5.454466        10   \n",
       "3          19   2.995732             234.1              5.460011        19   \n",
       "4          20   3.044522             234.0              5.459586        20   \n",
       "...       ...        ...               ...                   ...       ...   \n",
       "733413    440   6.089045             125.3              4.838660       444   \n",
       "733414    500   6.216606             117.5              4.774913       504   \n",
       "733415    521   6.257668             113.9              4.744062       525   \n",
       "733416      2   1.098612             402.5              6.000176         2   \n",
       "733417      5   1.791759             400.8              5.995954         5   \n",
       "\n",
       "        log_pressure  \n",
       "0           0.000000  \n",
       "1           2.197225  \n",
       "2           2.397895  \n",
       "3           2.995732  \n",
       "4           3.044522  \n",
       "...              ...  \n",
       "733413      6.098074  \n",
       "733414      6.224558  \n",
       "733415      6.265301  \n",
       "733416      1.098612  \n",
       "733417      1.791759  \n",
       "\n",
       "[733418 rows x 6 columns]"
      ]
     },
     "execution_count": 23,
     "metadata": {},
     "output_type": "execute_result"
    }
   ],
   "source": [
    "bottle_df[['depth', 'log_depth', 'spec_vol_anomaly', 'log_spec_vol_anomaly', \n",
    "           'pressure', 'log_pressure']]"
   ]
  },
  {
   "cell_type": "code",
   "execution_count": 24,
   "id": "d8723dc5",
   "metadata": {},
   "outputs": [],
   "source": [
    "#drop columns that were log normalized\n",
    "bottle_df.drop(columns_to_log_norm, axis=1, inplace=True)"
   ]
  },
  {
   "cell_type": "code",
   "execution_count": 25,
   "id": "c23d238a",
   "metadata": {},
   "outputs": [
    {
     "data": {
      "text/html": [
       "<div>\n",
       "<style scoped>\n",
       "    .dataframe tbody tr th:only-of-type {\n",
       "        vertical-align: middle;\n",
       "    }\n",
       "\n",
       "    .dataframe tbody tr th {\n",
       "        vertical-align: top;\n",
       "    }\n",
       "\n",
       "    .dataframe thead th {\n",
       "        text-align: right;\n",
       "    }\n",
       "</style>\n",
       "<table border=\"1\" class=\"dataframe\">\n",
       "  <thead>\n",
       "    <tr style=\"text-align: right;\">\n",
       "      <th></th>\n",
       "      <th>temp</th>\n",
       "      <th>salinity</th>\n",
       "      <th>pot_density</th>\n",
       "      <th>dynamic_height</th>\n",
       "      <th>year</th>\n",
       "      <th>log_depth</th>\n",
       "      <th>log_spec_vol_anomaly</th>\n",
       "      <th>log_pressure</th>\n",
       "    </tr>\n",
       "  </thead>\n",
       "  <tbody>\n",
       "    <tr>\n",
       "      <th>0</th>\n",
       "      <td>10.500</td>\n",
       "      <td>33.4400</td>\n",
       "      <td>25.64900</td>\n",
       "      <td>0.000</td>\n",
       "      <td>1949</td>\n",
       "      <td>0.000000</td>\n",
       "      <td>5.455321</td>\n",
       "      <td>0.000000</td>\n",
       "    </tr>\n",
       "    <tr>\n",
       "      <th>1</th>\n",
       "      <td>10.460</td>\n",
       "      <td>33.4400</td>\n",
       "      <td>25.65600</td>\n",
       "      <td>0.010</td>\n",
       "      <td>1949</td>\n",
       "      <td>2.197225</td>\n",
       "      <td>5.453182</td>\n",
       "      <td>2.197225</td>\n",
       "    </tr>\n",
       "    <tr>\n",
       "      <th>2</th>\n",
       "      <td>10.460</td>\n",
       "      <td>33.4370</td>\n",
       "      <td>25.65400</td>\n",
       "      <td>0.020</td>\n",
       "      <td>1949</td>\n",
       "      <td>2.397895</td>\n",
       "      <td>5.454466</td>\n",
       "      <td>2.397895</td>\n",
       "    </tr>\n",
       "    <tr>\n",
       "      <th>3</th>\n",
       "      <td>10.450</td>\n",
       "      <td>33.4200</td>\n",
       "      <td>25.64300</td>\n",
       "      <td>0.040</td>\n",
       "      <td>1949</td>\n",
       "      <td>2.995732</td>\n",
       "      <td>5.460011</td>\n",
       "      <td>2.995732</td>\n",
       "    </tr>\n",
       "    <tr>\n",
       "      <th>4</th>\n",
       "      <td>10.450</td>\n",
       "      <td>33.4210</td>\n",
       "      <td>25.64300</td>\n",
       "      <td>0.040</td>\n",
       "      <td>1949</td>\n",
       "      <td>3.044522</td>\n",
       "      <td>5.459586</td>\n",
       "      <td>3.044522</td>\n",
       "    </tr>\n",
       "    <tr>\n",
       "      <th>...</th>\n",
       "      <td>...</td>\n",
       "      <td>...</td>\n",
       "      <td>...</td>\n",
       "      <td>...</td>\n",
       "      <td>...</td>\n",
       "      <td>...</td>\n",
       "      <td>...</td>\n",
       "      <td>...</td>\n",
       "    </tr>\n",
       "    <tr>\n",
       "      <th>733413</th>\n",
       "      <td>6.312</td>\n",
       "      <td>34.1563</td>\n",
       "      <td>26.85639</td>\n",
       "      <td>1.026</td>\n",
       "      <td>2016</td>\n",
       "      <td>6.089045</td>\n",
       "      <td>4.838660</td>\n",
       "      <td>6.098074</td>\n",
       "    </tr>\n",
       "    <tr>\n",
       "      <th>733414</th>\n",
       "      <td>5.993</td>\n",
       "      <td>34.2160</td>\n",
       "      <td>26.94518</td>\n",
       "      <td>1.107</td>\n",
       "      <td>2016</td>\n",
       "      <td>6.216606</td>\n",
       "      <td>4.774913</td>\n",
       "      <td>6.224558</td>\n",
       "    </tr>\n",
       "    <tr>\n",
       "      <th>733415</th>\n",
       "      <td>5.818</td>\n",
       "      <td>34.2382</td>\n",
       "      <td>26.98477</td>\n",
       "      <td>1.123</td>\n",
       "      <td>2016</td>\n",
       "      <td>6.257668</td>\n",
       "      <td>4.744062</td>\n",
       "      <td>6.265301</td>\n",
       "    </tr>\n",
       "    <tr>\n",
       "      <th>733416</th>\n",
       "      <td>18.744</td>\n",
       "      <td>33.4083</td>\n",
       "      <td>23.87072</td>\n",
       "      <td>0.008</td>\n",
       "      <td>2016</td>\n",
       "      <td>1.098612</td>\n",
       "      <td>6.000176</td>\n",
       "      <td>1.098612</td>\n",
       "    </tr>\n",
       "    <tr>\n",
       "      <th>733417</th>\n",
       "      <td>18.692</td>\n",
       "      <td>33.4150</td>\n",
       "      <td>23.88911</td>\n",
       "      <td>0.020</td>\n",
       "      <td>2016</td>\n",
       "      <td>1.791759</td>\n",
       "      <td>5.995954</td>\n",
       "      <td>1.791759</td>\n",
       "    </tr>\n",
       "  </tbody>\n",
       "</table>\n",
       "<p>733418 rows × 8 columns</p>\n",
       "</div>"
      ],
      "text/plain": [
       "          temp  salinity  pot_density  dynamic_height  year  log_depth  \\\n",
       "0       10.500   33.4400     25.64900           0.000  1949   0.000000   \n",
       "1       10.460   33.4400     25.65600           0.010  1949   2.197225   \n",
       "2       10.460   33.4370     25.65400           0.020  1949   2.397895   \n",
       "3       10.450   33.4200     25.64300           0.040  1949   2.995732   \n",
       "4       10.450   33.4210     25.64300           0.040  1949   3.044522   \n",
       "...        ...       ...          ...             ...   ...        ...   \n",
       "733413   6.312   34.1563     26.85639           1.026  2016   6.089045   \n",
       "733414   5.993   34.2160     26.94518           1.107  2016   6.216606   \n",
       "733415   5.818   34.2382     26.98477           1.123  2016   6.257668   \n",
       "733416  18.744   33.4083     23.87072           0.008  2016   1.098612   \n",
       "733417  18.692   33.4150     23.88911           0.020  2016   1.791759   \n",
       "\n",
       "        log_spec_vol_anomaly  log_pressure  \n",
       "0                   5.455321      0.000000  \n",
       "1                   5.453182      2.197225  \n",
       "2                   5.454466      2.397895  \n",
       "3                   5.460011      2.995732  \n",
       "4                   5.459586      3.044522  \n",
       "...                      ...           ...  \n",
       "733413              4.838660      6.098074  \n",
       "733414              4.774913      6.224558  \n",
       "733415              4.744062      6.265301  \n",
       "733416              6.000176      1.098612  \n",
       "733417              5.995954      1.791759  \n",
       "\n",
       "[733418 rows x 8 columns]"
      ]
     },
     "execution_count": 25,
     "metadata": {},
     "output_type": "execute_result"
    }
   ],
   "source": [
    "#view preprocessed dataframe\n",
    "bottle_df"
   ]
  },
  {
   "cell_type": "markdown",
   "id": "b10c42b1",
   "metadata": {},
   "source": [
    "#### 2.\tCreate a correlation matrix to see how the features are correlated. Describe your findings. Pay particular attention to what is correlated with water temperature. "
   ]
  },
  {
   "cell_type": "markdown",
   "id": "544ac321",
   "metadata": {},
   "source": [
    "Many of the variables that show correlation are possibly dependent on each other.  There is strong correlation between potential density, dynamic height, specific volume, and pressure because these are all measure that relate to volume, mass, and pressure.  Temperature seems to have a strong correlation with the previous four measures as well as a strong negative correlation to depth and a mild correlation with salinity.  Year was included in this matrix, but does not seem to have a correlation with any other inputs."
   ]
  },
  {
   "cell_type": "code",
   "execution_count": 26,
   "id": "2d7d0073",
   "metadata": {},
   "outputs": [
    {
     "data": {
      "text/plain": [
       "<function matplotlib.pyplot.show(close=None, block=None)>"
      ]
     },
     "execution_count": 26,
     "metadata": {},
     "output_type": "execute_result"
    },
    {
     "data": {
      "image/png": "[encoded data removed]",
      "text/plain": [
       "<Figure size 432x288 with 2 Axes>"
      ]
     },
     "metadata": {
      "needs_background": "light"
     },
     "output_type": "display_data"
    }
   ],
   "source": [
    "#view correlation matrix for preprocessed data\n",
    "corr_matrix = bottle_df.corr()\n",
    "corr_matrix\n",
    "\n",
    "#plot the correlation heatmap\n",
    "fig,ax = plt.subplots()\n",
    "fig.suptitle('Heatmap for Bottles Dataframe')\n",
    "sns.heatmap(corr_matrix, annot=True)\n",
    "plt.show"
   ]
  },
  {
   "cell_type": "markdown",
   "id": "97083cb9",
   "metadata": {},
   "source": [
    "#### 3.\tPerform linear regression on the dataset to see if you can predict water temperature based on salinity. \n",
    "\n",
    "Based on the accuracy score of 0.227, this model does not accurately predict temperature based on saliity."
   ]
  },
  {
   "cell_type": "code",
   "execution_count": 27,
   "id": "bf945944",
   "metadata": {},
   "outputs": [
    {
     "data": {
      "text/plain": [
       "array([[11.6112668 ],\n",
       "       [ 7.62452545],\n",
       "       [10.81215253],\n",
       "       ...,\n",
       "       [10.28676801],\n",
       "       [ 9.15652905],\n",
       "       [10.13224315]])"
      ]
     },
     "execution_count": 27,
     "metadata": {},
     "output_type": "execute_result"
    }
   ],
   "source": [
    "#isolate X and y variables\n",
    "X = np.array(bottle_df['salinity']).reshape(-1,1)\n",
    "y = np.array(bottle_df['temp']).reshape(-1,1)\n",
    "\n",
    "#perform train-test-split\n",
    "X_train, X_test, y_train, y_test = train_test_split(X, y, test_size=0.3, random_state=14)\n",
    "\n",
    "#create linear regression \n",
    "reg = LinearRegression()\n",
    "reg.fit(X_train, y_train)\n",
    "\n",
    "#predict values\n",
    "y_pred = reg.predict(X_test)\n",
    "y_pred"
   ]
  },
  {
   "cell_type": "code",
   "execution_count": 28,
   "id": "bdd2dad5",
   "metadata": {},
   "outputs": [
    {
     "data": {
      "text/plain": [
       "0.22706296898508682"
      ]
     },
     "execution_count": 28,
     "metadata": {},
     "output_type": "execute_result"
    }
   ],
   "source": [
    "#performance of linear regression model\n",
    "accuracy_score = reg.score(X_test, y_test)\n",
    "accuracy_score"
   ]
  },
  {
   "cell_type": "markdown",
   "id": "fd2671d7",
   "metadata": {},
   "source": [
    "#### 4.\tFind your mean squared error and R2 values. Be sure to indicate what these tell you. You can import these from sklearn.metrics . \n",
    "Both R-squared and Mean Squared Error (MSE) measure the accuracy of the linear regression model predictions compared to the test target variables\n",
    "\n",
    "R-Squared is a ratio of SSR (Sum of Squares Regression) to SST (Sum of Squares Total) which is a measure of variance compared to the regression line. R-Squared is a value between 0 and 1, with 1 being a perfect fit.\n",
    "\n",
    "MSE is the average of the sum of squared difference between actual and predicted values. The MSE is always positive and a score closer to zero represents low predictive error in the model."
   ]
  },
  {
   "cell_type": "code",
   "execution_count": 29,
   "id": "51271776",
   "metadata": {},
   "outputs": [
    {
     "name": "stdout",
     "output_type": "stream",
     "text": [
      "R-Squared = 0.22706296898508682\n",
      "MSE = 13.935584162214264\n"
     ]
    }
   ],
   "source": [
    "#R-squared score\n",
    "rsq_score = r2_score(y_test, y_pred)\n",
    "print('R-Squared = '+ str(rsq_score))\n",
    "\n",
    "#MSE score\n",
    "mse_score = mean_squared_error(y_test, y_pred)\n",
    "print('MSE = '+ str(mse_score))"
   ]
  },
  {
   "cell_type": "markdown",
   "id": "c0cf43f8",
   "metadata": {},
   "source": [
    "#### 5.\tCreate a final plot of the relationship between water temperature and salinity. Be sure to show the values from the dataset in a scatter plot with a trend line that shows the predicted temperature values. "
   ]
  },
  {
   "cell_type": "code",
   "execution_count": 68,
   "id": "bff172e6",
   "metadata": {},
   "outputs": [
    {
     "data": {
      "image/png": "[encoded data removed]",
      "text/plain": [
       "<Figure size 432x288 with 1 Axes>"
      ]
     },
     "metadata": {
      "needs_background": "light"
     },
     "output_type": "display_data"
    }
   ],
   "source": [
    "plt.figure()\n",
    "sp = sns.regplot(data=bottle_df, x='salinity', y='temp')\n",
    "sp.set_title(\"Linear Regression of Salinity vs. Water Temperature\")\n",
    "sp.set(xlabel='Salinity (Practical Salinity Scale)',\n",
    "       ylabel='Water Temperature (°C)')\n",
    "plt.show()"
   ]
  },
  {
   "cell_type": "markdown",
   "id": "1e873120",
   "metadata": {},
   "source": [
    "#### 6.\tDo some research on polynomial regression. Describe what it is and how it works in markdown. This article is useful https://machinelearningmastery.com/polynomial-features-transforms-for-machine-learning/ "
   ]
  },
  {
   "cell_type": "markdown",
   "id": "b4a9507a",
   "metadata": {},
   "source": [
    "Polynomial regression is a linear regression performed on feature engineered variables that have undergone polynomial transformation. The polynomial feature transformation involves creating new features that have undergone exponentiation to make the variability between features more pronounced. It is useful for some models and can produce higher accuracy measures in some cases by creating extra predictor variables for the model to extrapolate relationships between."
   ]
  },
  {
   "cell_type": "markdown",
   "id": "e1ff6246",
   "metadata": {},
   "source": [
    "#### 7.\tPerform polynomial regression on this same dataset. Train and validate your model as you did when you used linear regression. Mean squared error and R2 both apply here. "
   ]
  },
  {
   "cell_type": "code",
   "execution_count": 64,
   "id": "d0221edb",
   "metadata": {},
   "outputs": [
    {
     "data": {
      "text/plain": [
       "array([[11.27886425],\n",
       "       [ 8.21251084],\n",
       "       [10.42858411],\n",
       "       ...,\n",
       "       [ 9.93393587],\n",
       "       [ 9.04292977],\n",
       "       [ 9.79817056]])"
      ]
     },
     "execution_count": 64,
     "metadata": {},
     "output_type": "execute_result"
    }
   ],
   "source": [
    "#create polynomial feature object\n",
    "poly = PolynomialFeatures(degree=2)\n",
    "\n",
    "#use original train-test-split and transform X_train into X_pol_train\n",
    "X_train_poly= poly.fit_transform(X_train)\n",
    "\n",
    "#fit X training data with polynomial transformation to linear regression\n",
    "linreg=LinearRegression()\n",
    "linreg.fit(X_train_poly, y_train)\n",
    "\n",
    "#predict y values from poly transformed and linear regressino fitted X_test data\n",
    "y_poly_pred = linreg.predict(poly.fit_transform(X_test))\n",
    "y_poly_pred"
   ]
  },
  {
   "cell_type": "code",
   "execution_count": 66,
   "id": "c7905531",
   "metadata": {},
   "outputs": [
    {
     "name": "stdout",
     "output_type": "stream",
     "text": [
      "R-Squared = 0.2446078939325217\n",
      "MSE = 13.619259845466662\n"
     ]
    }
   ],
   "source": [
    "#R-squared score\n",
    "poly_rsq_score = r2_score(y_test, y_poly_pred)\n",
    "print('R-Squared = '+ str(poly_rsq_score))\n",
    "\n",
    "#MSE score\n",
    "poly_mse_score = mean_squared_error(y_test, y_poly_pred)\n",
    "print('MSE = '+ str(poly_mse_score))"
   ]
  },
  {
   "cell_type": "markdown",
   "id": "d415d910",
   "metadata": {},
   "source": [
    "#### 8.\tCreate a final plot of the relationship between water temperature and salinity. Be sure to show the values from the dataset in a scatter plot with a trend line that shows the polynomial regression predicted temperature values. The resulting trend line should be curved. "
   ]
  },
  {
   "cell_type": "code",
   "execution_count": 67,
   "id": "cc145471",
   "metadata": {},
   "outputs": [
    {
     "data": {
      "image/png": "[encoded data removed]",
      "text/plain": [
       "<Figure size 432x288 with 1 Axes>"
      ]
     },
     "metadata": {
      "needs_background": "light"
     },
     "output_type": "display_data"
    }
   ],
   "source": [
    "X_grid = np.arange(min(X), max(X), 0.1)\n",
    "X_grid = X_grid.reshape(len(X_grid), 1)\n",
    "\n",
    "\n",
    "plt.scatter(X,y,color='blue')\n",
    "plt.plot(X_grid,linreg.predict(poly.fit_transform(X_grid)), color='red')\n",
    "\n",
    "plt.title(\"Polynomial Regression of Salinity vs. Water Temperature\")\n",
    "plt.xlabel('Salinity (Practical Salinity Scale)')\n",
    "plt.ylabel('Water Temperature (°C)')\n",
    "              \n",
    "plt.show()"
   ]
  },
  {
   "attachments": {
    "Cert_PreProcessingforMLPython.png": {
     "image/png": "[encoded data removed]"
    }
   },
   "cell_type": "markdown",
   "id": "74d502ea",
   "metadata": {},
   "source": [
    "![Cert_PreProcessingforMLPython.png](attachment:Cert_PreProcessingforMLPython.png)"
   ]
  },
  {
   "cell_type": "code",
   "execution_count": null,
   "id": "b0e8d7d2",
   "metadata": {},
   "outputs": [],
   "source": []
  }
 ],
 "metadata": {
  "kernelspec": {
   "display_name": "Python 3 (ipykernel)",
   "language": "python",
   "name": "python3"
  },
  "language_info": {
   "codemirror_mode": {
    "name": "ipython",
    "version": 3
   },
   "file_extension": ".py",
   "mimetype": "text/x-python",
   "name": "python",
   "nbconvert_exporter": "python",
   "pygments_lexer": "ipython3",
   "version": "3.9.7"
  }
 },
 "nbformat": 4,
 "nbformat_minor": 5
}
